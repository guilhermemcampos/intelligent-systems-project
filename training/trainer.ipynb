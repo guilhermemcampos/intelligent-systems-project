{
 "cells": [
  {
   "cell_type": "markdown",
   "id": "elegant-bloom",
   "metadata": {},
   "source": [
    "# Data Extraction\n",
    "\n",
    "Loads a dataset with product data"
   ]
  },
  {
   "cell_type": "code",
   "execution_count": 104,
   "id": "unauthorized-terrorist",
   "metadata": {},
   "outputs": [],
   "source": [
    "import numpy as np\n",
    "import pandas as pd\n",
    "import os\n",
    "\n",
    "database_path  = os.environ['DATASET_PATH']\n",
    "data = pd.read_csv(filepath_or_buffer=database_path, sep=',', header=0)"
   ]
  },
  {
   "cell_type": "markdown",
   "id": "christian-diary",
   "metadata": {},
   "source": [
    "# Data Formatting\n",
    "\n",
    "É importante entender um pouco como estão os dados no dataset para se ter uma ideia de que informação poderia ser utilizado para predizer a categoria de cada produto"
   ]
  },
  {
   "cell_type": "code",
   "execution_count": 105,
   "id": "fleet-custody",
   "metadata": {},
   "outputs": [
    {
     "name": "stdout",
     "output_type": "stream",
     "text": [
      "Tipos de dados do dataset: \n",
      "product_id             int64\n",
      "seller_id              int64\n",
      "query                 object\n",
      "search_page            int64\n",
      "position               int64\n",
      "title                 object\n",
      "concatenated_tags     object\n",
      "creation_date         object\n",
      "price                float64\n",
      "weight               float64\n",
      "express_delivery       int64\n",
      "minimum_quantity       int64\n",
      "view_counts            int64\n",
      "order_counts         float64\n",
      "category              object\n",
      "dtype: object\n",
      "\n",
      "Quantidade de linhas no dataset: 38000\n",
      "Quantidade de colunas no dataset: 15\n",
      "\n",
      "\n",
      "product_id           38000\n",
      "seller_id            38000\n",
      "query                38000\n",
      "search_page          38000\n",
      "position             38000\n",
      "title                38000\n",
      "concatenated_tags    37998\n",
      "creation_date        38000\n",
      "price                38000\n",
      "weight               37942\n",
      "express_delivery     38000\n",
      "minimum_quantity     38000\n",
      "view_counts          38000\n",
      "order_counts         17895\n",
      "category             38000\n",
      "dtype: int64\n"
     ]
    },
    {
     "data": {
      "text/html": [
       "<div>\n",
       "<style scoped>\n",
       "    .dataframe tbody tr th:only-of-type {\n",
       "        vertical-align: middle;\n",
       "    }\n",
       "\n",
       "    .dataframe tbody tr th {\n",
       "        vertical-align: top;\n",
       "    }\n",
       "\n",
       "    .dataframe thead th {\n",
       "        text-align: right;\n",
       "    }\n",
       "</style>\n",
       "<table border=\"1\" class=\"dataframe\">\n",
       "  <thead>\n",
       "    <tr style=\"text-align: right;\">\n",
       "      <th></th>\n",
       "      <th>product_id</th>\n",
       "      <th>seller_id</th>\n",
       "      <th>query</th>\n",
       "      <th>search_page</th>\n",
       "      <th>position</th>\n",
       "      <th>title</th>\n",
       "      <th>concatenated_tags</th>\n",
       "      <th>creation_date</th>\n",
       "      <th>price</th>\n",
       "      <th>weight</th>\n",
       "      <th>express_delivery</th>\n",
       "      <th>minimum_quantity</th>\n",
       "      <th>view_counts</th>\n",
       "      <th>order_counts</th>\n",
       "      <th>category</th>\n",
       "    </tr>\n",
       "  </thead>\n",
       "  <tbody>\n",
       "    <tr>\n",
       "      <th>0</th>\n",
       "      <td>11394449</td>\n",
       "      <td>8324141</td>\n",
       "      <td>espirito santo</td>\n",
       "      <td>2</td>\n",
       "      <td>6</td>\n",
       "      <td>Mandala Espírito Santo</td>\n",
       "      <td>mandala mdf</td>\n",
       "      <td>2015-11-14 19:42:12</td>\n",
       "      <td>171.890000</td>\n",
       "      <td>1200.0</td>\n",
       "      <td>1</td>\n",
       "      <td>4</td>\n",
       "      <td>244</td>\n",
       "      <td>NaN</td>\n",
       "      <td>Decoração</td>\n",
       "    </tr>\n",
       "    <tr>\n",
       "      <th>1</th>\n",
       "      <td>15534262</td>\n",
       "      <td>6939286</td>\n",
       "      <td>cartao de visita</td>\n",
       "      <td>2</td>\n",
       "      <td>0</td>\n",
       "      <td>Cartão de Visita</td>\n",
       "      <td>cartao visita panfletos tag adesivos copos lon...</td>\n",
       "      <td>2018-04-04 20:55:07</td>\n",
       "      <td>77.670000</td>\n",
       "      <td>8.0</td>\n",
       "      <td>1</td>\n",
       "      <td>5</td>\n",
       "      <td>124</td>\n",
       "      <td>NaN</td>\n",
       "      <td>Papel e Cia</td>\n",
       "    </tr>\n",
       "    <tr>\n",
       "      <th>2</th>\n",
       "      <td>16153119</td>\n",
       "      <td>9835835</td>\n",
       "      <td>expositor de esmaltes</td>\n",
       "      <td>1</td>\n",
       "      <td>38</td>\n",
       "      <td>Organizador expositor p/ 70 esmaltes</td>\n",
       "      <td>expositor</td>\n",
       "      <td>2018-10-13 20:57:07</td>\n",
       "      <td>73.920006</td>\n",
       "      <td>2709.0</td>\n",
       "      <td>1</td>\n",
       "      <td>1</td>\n",
       "      <td>59</td>\n",
       "      <td>NaN</td>\n",
       "      <td>Outros</td>\n",
       "    </tr>\n",
       "    <tr>\n",
       "      <th>3</th>\n",
       "      <td>15877252</td>\n",
       "      <td>8071206</td>\n",
       "      <td>medidas lencol para berco americano</td>\n",
       "      <td>1</td>\n",
       "      <td>6</td>\n",
       "      <td>Jogo de Lençol Berço Estampado</td>\n",
       "      <td>t jogo lencol menino lencol berco</td>\n",
       "      <td>2017-02-27 13:26:03</td>\n",
       "      <td>118.770004</td>\n",
       "      <td>0.0</td>\n",
       "      <td>1</td>\n",
       "      <td>1</td>\n",
       "      <td>180</td>\n",
       "      <td>1.0</td>\n",
       "      <td>Bebê</td>\n",
       "    </tr>\n",
       "    <tr>\n",
       "      <th>4</th>\n",
       "      <td>15917108</td>\n",
       "      <td>7200773</td>\n",
       "      <td>adesivo box banheiro</td>\n",
       "      <td>3</td>\n",
       "      <td>38</td>\n",
       "      <td>ADESIVO BOX DE BANHEIRO</td>\n",
       "      <td>adesivo box banheiro</td>\n",
       "      <td>2017-05-09 13:18:38</td>\n",
       "      <td>191.810000</td>\n",
       "      <td>507.0</td>\n",
       "      <td>1</td>\n",
       "      <td>6</td>\n",
       "      <td>34</td>\n",
       "      <td>NaN</td>\n",
       "      <td>Decoração</td>\n",
       "    </tr>\n",
       "  </tbody>\n",
       "</table>\n",
       "</div>"
      ],
      "text/plain": [
       "   product_id  seller_id                                query  search_page  \\\n",
       "0    11394449    8324141                       espirito santo            2   \n",
       "1    15534262    6939286                     cartao de visita            2   \n",
       "2    16153119    9835835                expositor de esmaltes            1   \n",
       "3    15877252    8071206  medidas lencol para berco americano            1   \n",
       "4    15917108    7200773                 adesivo box banheiro            3   \n",
       "\n",
       "   position                                 title  \\\n",
       "0         6                Mandala Espírito Santo   \n",
       "1         0                      Cartão de Visita   \n",
       "2        38  Organizador expositor p/ 70 esmaltes   \n",
       "3         6        Jogo de Lençol Berço Estampado   \n",
       "4        38               ADESIVO BOX DE BANHEIRO   \n",
       "\n",
       "                                   concatenated_tags        creation_date  \\\n",
       "0                                        mandala mdf  2015-11-14 19:42:12   \n",
       "1  cartao visita panfletos tag adesivos copos lon...  2018-04-04 20:55:07   \n",
       "2                                          expositor  2018-10-13 20:57:07   \n",
       "3                  t jogo lencol menino lencol berco  2017-02-27 13:26:03   \n",
       "4                               adesivo box banheiro  2017-05-09 13:18:38   \n",
       "\n",
       "        price  weight  express_delivery  minimum_quantity  view_counts  \\\n",
       "0  171.890000  1200.0                 1                 4          244   \n",
       "1   77.670000     8.0                 1                 5          124   \n",
       "2   73.920006  2709.0                 1                 1           59   \n",
       "3  118.770004     0.0                 1                 1          180   \n",
       "4  191.810000   507.0                 1                 6           34   \n",
       "\n",
       "   order_counts     category  \n",
       "0           NaN    Decoração  \n",
       "1           NaN  Papel e Cia  \n",
       "2           NaN       Outros  \n",
       "3           1.0         Bebê  \n",
       "4           NaN    Decoração  "
      ]
     },
     "execution_count": 105,
     "metadata": {},
     "output_type": "execute_result"
    }
   ],
   "source": [
    "print('Tipos de dados do dataset: \\n' + str(data.dtypes))\n",
    "print('\\nQuantidade de linhas no dataset: ' + str(data.shape[0]))\n",
    "print('Quantidade de colunas no dataset: ' + str(data.shape[1]))\n",
    "print('\\n')\n",
    "print(data.count())\n",
    "data.head()"
   ]
  },
  {
   "cell_type": "markdown",
   "id": "painful-brother",
   "metadata": {},
   "source": [
    "O \"Título\" dos produtos pode ser uma boa forma de prever a categoria e, para manter a simplicidade, somente ele será avaliado no treinamento do modelo para predizer a categoria dos produtos"
   ]
  },
  {
   "cell_type": "code",
   "execution_count": 106,
   "id": "suffering-diary",
   "metadata": {},
   "outputs": [],
   "source": [
    "titles = list(data['title'])\n",
    "categories = list(data['category'])\n",
    "\n",
    "training_size = int(len(titles) * 0.8)\n",
    "\n",
    "train_titles = titles[:training_size]\n",
    "train_target_categories = categories[:training_size]\n",
    "\n",
    "test_titles = titles[training_size:]\n",
    "test_target_categories = categories[training_size:]"
   ]
  },
  {
   "cell_type": "markdown",
   "id": "solar-pocket",
   "metadata": {},
   "source": [
    "Como o \"Título\" é um campo texto composto por mútliplas palavras, é necessário transformar ele numa representação numérica para poder fazer o treinamento do modelo. Isso será feito usando a técnica \"Bag of Words\""
   ]
  },
  {
   "cell_type": "code",
   "execution_count": 107,
   "id": "amino-medline",
   "metadata": {},
   "outputs": [],
   "source": [
    "from sklearn.feature_extraction.text import CountVectorizer\n",
    "vectorizer = CountVectorizer()\n",
    "train_features = vectorizer.fit_transform(train_titles)"
   ]
  },
  {
   "cell_type": "markdown",
   "id": "breeding-strip",
   "metadata": {},
   "source": [
    "# Modeling\n",
    "\n",
    "Foram feitos testes com os modelos para classificação 'MultinomialNB', 'DecisionTreeClassifier', 'LinearSVC' e 'RandomForestClassifier'. Mas o que apresentou o melhor resultado foi o 'RandomForestClassifier', apesar de demorar um pouco dados os hiperparametros padrão terem sido considerados."
   ]
  },
  {
   "cell_type": "code",
   "execution_count": 108,
   "id": "canadian-nancy",
   "metadata": {},
   "outputs": [
    {
     "name": "stdout",
     "output_type": "stream",
     "text": [
      "CPU times: user 6 µs, sys: 0 ns, total: 6 µs\n",
      "Wall time: 12.9 µs\n"
     ]
    },
    {
     "data": {
      "text/plain": [
       "RandomForestClassifier()"
      ]
     },
     "execution_count": 108,
     "metadata": {},
     "output_type": "execute_result"
    }
   ],
   "source": [
    "%time\n",
    "from sklearn.ensemble import RandomForestClassifier\n",
    "\n",
    "classifier = RandomForestClassifier()\n",
    "classifier.fit(train_features.toarray(), train_target_categories)"
   ]
  },
  {
   "cell_type": "markdown",
   "id": "ecological-cooper",
   "metadata": {},
   "source": [
    "# Model Validation\n",
    "\n",
    "Para a validação do modelo foi utilizado o método classification_report por já montar um relatório formatado com as métricas gerais e para cada valor de \"Categoria\" encontrado no dataset"
   ]
  },
  {
   "cell_type": "code",
   "execution_count": 109,
   "id": "distributed-contest",
   "metadata": {},
   "outputs": [
    {
     "name": "stdout",
     "output_type": "stream",
     "text": [
      "                    precision    recall  f1-score   support\n",
      "\n",
      "              Bebê   1.000000  1.000000  1.000000      1415\n",
      "Bijuterias e Jóias   1.000000  0.000000  0.000000       197\n",
      "         Decoração   1.000000  1.000000  1.000000      1713\n",
      "     Lembrancinhas   0.896886  1.000000  0.945640      3514\n",
      "            Outros   1.000000  0.000000  0.000000       207\n",
      "       Papel e Cia   1.000000  1.000000  1.000000       554\n",
      "\n",
      "          accuracy                       0.946842      7600\n",
      "         macro avg   0.982814  0.666667  0.657607      7600\n",
      "      weighted avg   0.952323  0.946842  0.921708      7600\n",
      "\n"
     ]
    }
   ],
   "source": [
    "from sklearn.metrics import classification_report\n",
    "import json\n",
    "\n",
    "test_features = vectorizer.transform(test_target_categories)\n",
    "prediction = classifier.predict(test_features)\n",
    "\n",
    "classification = classification_report(test_categories, prediction, zero_division=True, digits=6)\n",
    "print(classification)\n",
    "\n",
    "file = open(os.environ['METRICS_PATH'], 'w')\n",
    "file.write(format(classification))\n",
    "file.close()"
   ]
  },
  {
   "cell_type": "markdown",
   "id": "spiritual-father",
   "metadata": {},
   "source": [
    "# Model Exportation"
   ]
  },
  {
   "cell_type": "code",
   "execution_count": 110,
   "id": "eight-dealer",
   "metadata": {},
   "outputs": [],
   "source": [
    "import pickle\n",
    "\n",
    "with open(os.environ['MODEL_PATH'], 'wb') as f:\n",
    "    pickle.dump(classifier, f)"
   ]
  }
 ],
 "metadata": {
  "kernelspec": {
   "display_name": "Python 3",
   "language": "python",
   "name": "python3"
  },
  "language_info": {
   "codemirror_mode": {
    "name": "ipython",
    "version": 3
   },
   "file_extension": ".py",
   "mimetype": "text/x-python",
   "name": "python",
   "nbconvert_exporter": "python",
   "pygments_lexer": "ipython3",
   "version": "3.9.1"
  }
 },
 "nbformat": 4,
 "nbformat_minor": 5
}
